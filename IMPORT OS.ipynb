{
 "cells": [
  {
   "cell_type": "code",
   "execution_count": 1,
   "id": "cb7eadc7",
   "metadata": {},
   "outputs": [],
   "source": [
    "import os"
   ]
  },
  {
   "cell_type": "code",
   "execution_count": 3,
   "id": "b0aec8b6",
   "metadata": {},
   "outputs": [
    {
     "data": {
      "text/plain": [
       "['Andaman-_-nicobar-islands.csv',\n",
       " 'Andhra-pradesh.csv',\n",
       " 'Arunachal-pradesh.csv',\n",
       " 'Assam.csv',\n",
       " 'Bihar.csv',\n",
       " 'Chandigarh.csv',\n",
       " 'Chhattisgarh.csv',\n",
       " 'dadra nagar.csv',\n",
       " 'delhi.csv',\n",
       " 'goa.csv',\n",
       " 'gujarat.csv',\n",
       " 'haryana.csv',\n",
       " 'himachal-pradesh.csv',\n",
       " 'jammu-_-kashmir.csv',\n",
       " 'jharkhand.csv',\n",
       " 'karnataka.csv',\n",
       " 'kerala.csv',\n",
       " 'ladakh.csv',\n",
       " 'lakshadweep.csv',\n",
       " 'madhya-pradesh.csv',\n",
       " 'maharashtra.csv',\n",
       " 'manipur.csv',\n",
       " 'meghalaya.csv',\n",
       " 'mizoram.csv',\n",
       " 'nagaland.csv',\n",
       " 'odisha.csv',\n",
       " 'puducherry.csv',\n",
       " 'punjab.csv',\n",
       " 'rajasthan.csv',\n",
       " 'sikkim.csv',\n",
       " 'tamil-nadu.csv',\n",
       " 'telangana.csv',\n",
       " 'tripura1.csv',\n",
       " 'uttar-pradesh1.csv',\n",
       " 'uttarakhand.csv',\n",
       " 'WEST-BENGAL.csv']"
      ]
     },
     "execution_count": 3,
     "metadata": {},
     "output_type": "execute_result"
    }
   ],
   "source": [
    "path=\"C:/Users/basha/OneDrive/Desktop/csvss\"\n",
    "os.listdir(path)"
   ]
  },
  {
   "cell_type": "code",
   "execution_count": 4,
   "id": "1cdb316f",
   "metadata": {},
   "outputs": [],
   "source": [
    "import pandas as pd"
   ]
  },
  {
   "cell_type": "code",
   "execution_count": 5,
   "id": "982cfae1",
   "metadata": {},
   "outputs": [],
   "source": [
    "df=pd.DataFrame()"
   ]
  },
  {
   "cell_type": "code",
   "execution_count": 8,
   "id": "beb52e44",
   "metadata": {},
   "outputs": [],
   "source": [
    "for i in os.listdir(path):\n",
    "  d=pd.read_csv(\"C:/Users/basha/OneDrive/Desktop/csvss/{}\".format(i))\n",
    "  df=pd.concat([df,d],ignore_index=True)"
   ]
  },
  {
   "cell_type": "code",
   "execution_count": 10,
   "id": "bc486c58",
   "metadata": {},
   "outputs": [],
   "source": [
    "df.to_csv(\"map.csv\")"
   ]
  },
  {
   "cell_type": "code",
   "execution_count": null,
   "id": "4b63b013",
   "metadata": {},
   "outputs": [],
   "source": []
  }
 ],
 "metadata": {
  "kernelspec": {
   "display_name": "Python 3 (ipykernel)",
   "language": "python",
   "name": "python3"
  },
  "language_info": {
   "codemirror_mode": {
    "name": "ipython",
    "version": 3
   },
   "file_extension": ".py",
   "mimetype": "text/x-python",
   "name": "python",
   "nbconvert_exporter": "python",
   "pygments_lexer": "ipython3",
   "version": "3.9.12"
  }
 },
 "nbformat": 4,
 "nbformat_minor": 5
}
